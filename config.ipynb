{
 "cells": [
  {
   "cell_type": "code",
   "execution_count": 109,
   "metadata": {},
   "outputs": [],
   "source": [
    "import socket\n",
    "import time"
   ]
  },
  {
   "cell_type": "code",
   "execution_count": 110,
   "metadata": {},
   "outputs": [],
   "source": [
    "#servIP = input(\"\\nEnter Vision IP address : \")\n",
    "#port = input(\"Enter port No. : \")\n",
    "# servIP = '192.168.12.254'\n",
    "# port = 8500\n",
    "# try:\n",
    "#     server = socket.socket()\n",
    "#     server.connect((servIP,port))\n",
    "#     status = True\n",
    "# except:\n",
    "#     print(\">>> Connect failed <<<\")\n",
    "#     status = False"
   ]
  },
  {
   "cell_type": "code",
   "execution_count": 111,
   "metadata": {},
   "outputs": [
    {
     "name": "stdout",
     "output_type": "stream",
     "text": [
      "11618.9865302\n",
      "11618.9865907\n"
     ]
    },
    {
     "data": {
      "text/plain": [
       "6.050000047252979e-05"
      ]
     },
     "execution_count": 111,
     "metadata": {},
     "output_type": "execute_result"
    }
   ],
   "source": [
    "time_start = time.perf_counter()\n",
    "for i in range(100):\n",
    "    if i == 1000:\n",
    "        print(\"end loop\")\n",
    "time_end = time.perf_counter()\n",
    "print(time_start)\n",
    "print(time_end)\n",
    "time_end-time_start\n"
   ]
  }
 ],
 "metadata": {
  "kernelspec": {
   "display_name": "Python 3",
   "language": "python",
   "name": "python3"
  },
  "language_info": {
   "codemirror_mode": {
    "name": "ipython",
    "version": 3
   },
   "file_extension": ".py",
   "mimetype": "text/x-python",
   "name": "python",
   "nbconvert_exporter": "python",
   "pygments_lexer": "ipython3",
   "version": "3.10.4"
  },
  "orig_nbformat": 4
 },
 "nbformat": 4,
 "nbformat_minor": 2
}
