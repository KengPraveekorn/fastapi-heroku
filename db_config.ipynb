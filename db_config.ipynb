{
 "cells": [
  {
   "cell_type": "code",
   "execution_count": 5,
   "metadata": {},
   "outputs": [],
   "source": [
    "import mysql.connector\n",
    "from paho.mqtt import client as mqtt\n",
    "import time\n",
    "import requests"
   ]
  },
  {
   "cell_type": "code",
   "execution_count": 6,
   "metadata": {},
   "outputs": [],
   "source": [
    "#MQTT\n",
    "# def on_log(client, userdata, level, buf):\n",
    "#     print(\"log: \"+buf)\n",
    "# def on_connect(client, userdata, flags, rc):\n",
    "#     if rc ==0:\n",
    "#         print(\"connected OK\")\n",
    "#     else:\n",
    "#         print(\"Bad connected returned code=\",rc)\n",
    "# def on_disconnect(client,usedata, flags, rc=0):\n",
    "#     print(\"Disconndected result code \"+str(rc) )\n",
    "# def on_message(client,userdata,msg):\n",
    "#     topic=msg.topic\n",
    "#     m_decode=str(msg.payload.decode(\"utf-8\",\"ignore\"))\n",
    "#     print(\"message received\",m_decode)\n",
    "# broker = \"broker.emqx.io\"\n",
    "# client = mqtt.Client(\"python1\")\n",
    "\n",
    "# client.on_connect=on_connect\n",
    "# client.on_disconnect=on_disconnect\n",
    "# client.on_log=on_log\n",
    "# client.on_message=on_message\n",
    "# print(\"Connnecting to broker \",broker)\n",
    "\n",
    "# client.connect(broker)\n",
    "# client.loop_start()\n",
    "# client.subscribe(\"TestConfig/mqtt\")\n",
    "# client.publish(\"TestConfig/mqtt\",\"Hello World\")\n",
    "# time.sleep(3)\n",
    "# client.loop()\n",
    "# client.disconnect()"
   ]
  },
  {
   "cell_type": "code",
   "execution_count": 7,
   "metadata": {},
   "outputs": [
    {
     "name": "stdout",
     "output_type": "stream",
     "text": [
      "<mysql.connector.connection_cext.CMySQLConnection object at 0x0000020E4529D0F0>\n"
     ]
    }
   ],
   "source": [
    "# Connect E40DB\n",
    "mydb = mysql.connector.connect(\n",
    "  host=\"163.50.57.96\",\n",
    "  user=\"admin\",\n",
    "  password=\"conDB!@#$%\",\n",
    "  database=\"mt900\"\n",
    ")\n",
    "print(mydb)"
   ]
  },
  {
   "cell_type": "code",
   "execution_count": 8,
   "metadata": {},
   "outputs": [
    {
     "name": "stdout",
     "output_type": "stream",
     "text": [
      "(1, '4.791', '0.629', '4.727', '0.542', '236PB1234')\n"
     ]
    }
   ],
   "source": [
    "mycursor = mydb.cursor()\n",
    "\n",
    "# Read data\n",
    "mycursor.execute(\"SELECT * FROM twomask_cpk\")\n",
    "myresult = mycursor.fetchall()\n",
    "\n",
    "for x in myresult:\n",
    "  print(x)"
   ]
  },
  {
   "cell_type": "code",
   "execution_count": 9,
   "metadata": {},
   "outputs": [],
   "source": [
    "# Insert data\n",
    "# sql = \"INSERT INTO twomask_cpk (front_pos,front_width,back_pos,back_width,lotno) VALUES (%s,%s,%s,%s,%s)\" \n",
    "# val = (\"4.791\",\"0.629\",\"4.727\",\"0.542\",\"236PB1234\")\n",
    "# mycursor.execute(sql,val)\n",
    "\n",
    "# mydb.commit()\n",
    "\n",
    "# print(mycursor.rowcount, \"record inserted.\")"
   ]
  },
  {
   "cell_type": "code",
   "execution_count": 10,
   "metadata": {},
   "outputs": [],
   "source": [
    "# Delete data\n",
    "# mycursor.execute(\"DELETE FROM user_tb WHERE iduser_tb > 51 \")\n",
    "# mydb.commit()\n",
    "\n",
    "# print(mycursor.rowcount, \"record(s) deleted\")"
   ]
  },
  {
   "cell_type": "code",
   "execution_count": 11,
   "metadata": {},
   "outputs": [
    {
     "name": "stdout",
     "output_type": "stream",
     "text": [
      "[{\"title\":\"New 2b\",\"price\":400.0}]\n"
     ]
    }
   ],
   "source": [
    "x = requests.get('http://127.0.0.1:8000/gbook')\n",
    "print(x.text)"
   ]
  }
 ],
 "metadata": {
  "kernelspec": {
   "display_name": "Python 3",
   "language": "python",
   "name": "python3"
  },
  "language_info": {
   "codemirror_mode": {
    "name": "ipython",
    "version": 3
   },
   "file_extension": ".py",
   "mimetype": "text/x-python",
   "name": "python",
   "nbconvert_exporter": "python",
   "pygments_lexer": "ipython3",
   "version": "3.10.4"
  },
  "orig_nbformat": 4
 },
 "nbformat": 4,
 "nbformat_minor": 2
}
